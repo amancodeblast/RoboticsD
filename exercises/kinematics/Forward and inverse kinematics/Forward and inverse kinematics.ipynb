{
 "cells": [
  {
   "cell_type": "code",
   "execution_count": 2,
   "metadata": {},
   "outputs": [],
   "source": [
    "from sympy import symbols, cos, sin, pi, simplify\n",
    "from sympy.matrices import Matrix\n",
    "import numpy as np"
   ]
  },
  {
   "cell_type": "code",
   "execution_count": 3,
   "metadata": {},
   "outputs": [],
   "source": [
    "### Create symbols for joint variables which are commonly represented by \"q\"\n",
    "### Joint variable \"q\" is equal to \"ϴ\" or \"d\" depending if the joint is revolute or prismatic\n",
    "q1, q2, q3, q4 = symbols('q1:5') # remember slices do not include the end value \n",
    "# unrelated symbols can be defined like this:\n",
    "A, R, O, C = symbols('A R O C')"
   ]
  },
  {
   "cell_type": "code",
   "execution_count": 4,
   "metadata": {},
   "outputs": [],
   "source": [
    "# Conversion Factors\n",
    "rtd = 180./np.pi # radians to degrees\n",
    "dtr = np.pi/180. # degrees to radians"
   ]
  },
  {
   "cell_type": "code",
   "execution_count": 6,
   "metadata": {},
   "outputs": [],
   "source": [
    "R_x = Matrix([[ 1,              0,        0],\n",
    "              [ 0,        cos(q1), -sin(q1)],\n",
    "              [ 0,        sin(q1),  cos(q1)]])\n",
    "\n",
    "R_y = Matrix([[ cos(q2),        0,  sin(q2)],\n",
    "              [       0,        1,        0],\n",
    "              [-sin(q2),        0,  cos(q2)]])\n",
    "\n",
    "R_z = Matrix([[ cos(q3), -sin(q3),        0],\n",
    "              [ sin(q3),  cos(q3),        0],\n",
    "              [ 0,              0,        1]])"
   ]
  },
  {
   "cell_type": "code",
   "execution_count": 5,
   "metadata": {},
   "outputs": [
    {
     "name": "stdout",
     "output_type": "stream",
     "text": [
      "Rotation about the X-axis by 45-degrees\n",
      "Matrix([[1.00000000000000, 0, 0], [0, 0.707106781186548, -0.707106781186547], [0, 0.707106781186547, 0.707106781186548]])\n",
      "Rotation about the y-axis by 45-degrees\n",
      "Matrix([[0.707106781186548, 0, 0.707106781186547], [0, 1.00000000000000, 0], [-0.707106781186547, 0, 0.707106781186548]])\n",
      "Rotation about the Z-axis by 30-degrees\n",
      "Matrix([[0.866025403784439, -0.500000000000000, 0], [0.500000000000000, 0.866025403784439, 0], [0, 0, 1.00000000000000]])\n"
     ]
    }
   ],
   "source": [
    "print(\"Rotation about the X-axis by 45-degrees\")\n",
    "print(R_x.evalf(subs={q1: 45*dtr}))\n",
    "print(\"Rotation about the y-axis by 45-degrees\")\n",
    "print(R_y.evalf(subs={q2: 45*dtr}))\n",
    "print(\"Rotation about the Z-axis by 30-degrees\")\n",
    "print(R_z.evalf(subs={q3: 30*dtr}))"
   ]
  },
  {
   "cell_type": "markdown",
   "metadata": {},
   "source": [
    "## Composition Of Rotations\n",
    "### Intrinsic Rotations"
   ]
  },
  {
   "cell_type": "code",
   "execution_count": null,
   "metadata": {},
   "outputs": [],
   "source": [
    "from sympy import symbols, cos, sin, pi, sqrt\n",
    "from sympy.matrices import Matrix\n",
    "\n",
    "### Create symbols for joint variables\n",
    "q1, q2 = symbols('q1:3')\n",
    "\n",
    "# Create a symbolic matrix representing an intrinsic sequence of rotations \n",
    "  # about the Y and then Z axes. Let the rotation about the Y axis be described\n",
    "  # by q1 and the rotation about Z by q2. \n",
    "####### TO DO ########\n",
    "# Replace R_y and R_z with the appropriate (symbolic) elementary rotation matrices \n",
    "  # and then compute YZ_intrinsic. \n",
    "R_y = 1\n",
    "R_z = 1\n",
    "YZ_intrinsic_sym = 1\n",
    "\n",
    "####### TO DO ########\n",
    "# Numerically evaluate YZ_intrinsic assuming:\n",
    "   # q1 = 45 degrees and q2 = 60 degrees. \n",
    "   # NOTE: Trigonometric functions in Python assume the input is in radians!  \n",
    "\n",
    "YZ_intrinsic_num = 1 #YZ_intrinsic_sym.evalf(subs={})"
   ]
  },
  {
   "cell_type": "markdown",
   "metadata": {},
   "source": [
    "## Solution"
   ]
  },
  {
   "cell_type": "code",
   "execution_count": 6,
   "metadata": {},
   "outputs": [],
   "source": [
    "from sympy import symbols, cos, sin, pi, sqrt\n",
    "from sympy.matrices import Matrix\n",
    "\n",
    "### Create symbols for joint variables\n",
    "q1, q2 = symbols('q1:3')\n",
    "\n",
    "# Create a symbolic matrix representing an intrinsic sequence of rotations \n",
    "  # about the Y and then Z axes. Let the rotation about the Y axis be described\n",
    "  # by q1 and the rotation about Z by q2. \n",
    "####### TO DO ########\n",
    "# Replace R_y and R_z with the appropriate (symbolic) elementary rotation matrices \n",
    "  # and then compute YZ_intrinsic. \n",
    "R_y = Matrix([[ cos(q1),        0, sin(q1)],\n",
    "              [ 0,              1,       0],\n",
    "              [-sin(q1),        0, cos(q1)]])\n",
    "R_z = Matrix([[ cos(q2), -sin(q2),       0],\n",
    "              [ sin(q2),  cos(q2),       0],\n",
    "              [       0,        0,       1]])\n",
    "\n",
    "YZ_intrinsic_sym = R_y * R_z\n",
    "YZ_intrinsic_num = YZ_intrinsic_sym.evalf(subs={q1: pi/4, q2: pi/3})"
   ]
  },
  {
   "cell_type": "code",
   "execution_count": 7,
   "metadata": {},
   "outputs": [
    {
     "data": {
      "text/plain": [
       "Matrix([\n",
       "[ 0.353553390593274, -0.612372435695794, 0.707106781186548],\n",
       "[ 0.866025403784439,                0.5,                 0],\n",
       "[-0.353553390593274,  0.612372435695794, 0.707106781186548]])"
      ]
     },
     "execution_count": 7,
     "metadata": {},
     "output_type": "execute_result"
    }
   ],
   "source": [
    "YZ_intrinsic_num"
   ]
  },
  {
   "cell_type": "markdown",
   "metadata": {},
   "source": [
    "### Extrinsic Rotation"
   ]
  },
  {
   "cell_type": "code",
   "execution_count": null,
   "metadata": {},
   "outputs": [],
   "source": [
    "from sympy import symbols, cos, sin, pi, sqrt\n",
    "from sympy.matrices import Matrix\n",
    "\n",
    "### Create symbols for joint variables\n",
    "q1, q2 = symbols('q1:3')\n",
    "\n",
    "# Create a symbolic matrix representing an extrinsic sequence of rotations \n",
    "  # about the Z and then Y axes. Let the rotation about the Y axis be described\n",
    "  # by q1 and the rotation about Z by q2. \n",
    "####### TO DO ########\n",
    "# Replace R_y and R_z with the appropriate (symbolic) elementary rotation matrices \n",
    "  # and then compute ZY_extrinsic. \n",
    "R_y = 1\n",
    "R_z = 1\n",
    "ZY_extrinsic_sym = 1\n",
    "ZY_extrinsic_num = 1\n",
    "\n",
    "####### TO DO ########\n",
    "# Numerically evaluate ZY_extrinsic assuming:\n",
    "   # q1 = 45 degrees and q2 = 60 degrees. \n",
    "   # NOTE: Trigonometric functions in Python assume the input is in radians!  \n",
    "#ZY_extrinsic_sym = \n",
    "#ZY_extrinsic_num = ZY_extrinsic_sym.evalf(subs{})"
   ]
  },
  {
   "cell_type": "markdown",
   "metadata": {},
   "source": [
    "## Solution"
   ]
  },
  {
   "cell_type": "code",
   "execution_count": 11,
   "metadata": {},
   "outputs": [
    {
     "data": {
      "text/plain": [
       "Matrix([\n",
       "[ 0.353553390593274, -0.612372435695794, 0.707106781186548],\n",
       "[ 0.866025403784439,                0.5,                 0],\n",
       "[-0.353553390593274,  0.612372435695794, 0.707106781186548]])"
      ]
     },
     "execution_count": 11,
     "metadata": {},
     "output_type": "execute_result"
    }
   ],
   "source": [
    "from sympy import symbols, cos, sin, pi, sqrt\n",
    "from sympy.matrices import Matrix\n",
    "\n",
    "### Create symbols for joint variables\n",
    "q1, q2 = symbols('q1:3')\n",
    "\n",
    "# Create a symbolic matrix representing an extrinsic sequence of rotations \n",
    "  # about the Z and then Y axes. Let the rotation about the Y axis be described\n",
    "  # by q1 and the rotation about Z by q2. \n",
    "####### TO DO ########\n",
    "# Replace R_y and R_z with the appropriate (symbolic) elementary rotation matrices \n",
    "  # and then compute ZY_extrinsic. \n",
    "R_y = Matrix([[ cos(q1),        0, sin(q1)],\n",
    "              [ 0,              1,       0],\n",
    "              [-sin(q1),        0, cos(q1)]])\n",
    "R_z = Matrix([[ cos(q2), -sin(q2),       0],\n",
    "              [ sin(q2),  cos(q2),       0],\n",
    "              [       0,        0,       1]])\n",
    "ZY_extrinsic_sym = R_y * R_z\n",
    "ZY_extrinsic_num = ZY_extrinsic_sym.evalf(subs={q2: pi/3, q1: pi/4})\n",
    "ZY_extrinsic_num "
   ]
  },
  {
   "cell_type": "markdown",
   "metadata": {},
   "source": [
    "An extrinsic rotation sequence of A, B, C is equal to an intrinsic rotation sequence C, B, A."
   ]
  },
  {
   "cell_type": "code",
   "execution_count": 12,
   "metadata": {},
   "outputs": [
    {
     "data": {
      "text/plain": [
       "Matrix([\n",
       "[ 0.353553390593274, -0.612372435695794, 0.707106781186548],\n",
       "[ 0.866025403784439,                0.5,                 0],\n",
       "[-0.353553390593274,  0.612372435695794, 0.707106781186548]])"
      ]
     },
     "execution_count": 12,
     "metadata": {},
     "output_type": "execute_result"
    }
   ],
   "source": [
    "YZ_intrinsic_num"
   ]
  },
  {
   "cell_type": "markdown",
   "metadata": {},
   "source": [
    "## Testing the concept of left to right multiplication\n"
   ]
  },
  {
   "cell_type": "code",
   "execution_count": 13,
   "metadata": {},
   "outputs": [
    {
     "data": {
      "text/plain": [
       "Matrix([\n",
       "[ -0.12940952255126, -0.866025403784439,  0.482962913144534],\n",
       "[-0.224143868042013,                0.5,  0.836516303737808],\n",
       "[-0.965925826289068,                  0, -0.258819045102521]])"
      ]
     },
     "execution_count": 13,
     "metadata": {},
     "output_type": "execute_result"
    }
   ],
   "source": [
    "from sympy import symbols, cos, sin, pi, sqrt\n",
    "from sympy.matrices import Matrix\n",
    "\n",
    "### Create symbols for joint variables\n",
    "q1, q2, q3 = symbols('q1:4')\n",
    "\n",
    "# Create a symbolic matrix representing an extrinsic sequence of rotations \n",
    "  # about the Z and then Y axes. Let the rotation about the Y axis be described\n",
    "  # by q1 and the rotation about Z by q2. \n",
    "####### TO DO ########\n",
    "# Replace R_y and R_z with the appropriate (symbolic) elementary rotation matrices \n",
    "  # and then compute ZY_extrinsic. \n",
    "R_y = Matrix([[ cos(q1),        0, sin(q1)],\n",
    "              [ 0,              1,       0],\n",
    "              [-sin(q1),        0, cos(q1)]])\n",
    "R_z = Matrix([[ cos(q2), -sin(q2),       0],\n",
    "              [ sin(q2),  cos(q2),       0],\n",
    "              [       0,        0,       1]])\n",
    "R_x = Matrix([[ cos(q3),        0, sin(q3)],\n",
    "              [ 0,              1,       0],\n",
    "              [-sin(q3),        0, cos(q3)]])\n",
    "ZYX_intrinsic_sym =  R_z * R_y *R_x\n",
    "ZYX_intrinsic_num = ZYX_intrinsic_sym.evalf(subs={q3: pi/3, q2: pi/3, q1: pi/4})\n",
    "ZYX_intrinsic_num "
   ]
  },
  {
   "cell_type": "code",
   "execution_count": 20,
   "metadata": {},
   "outputs": [],
   "source": [
    "R_x = Matrix([[ cos(q3),        0, sin(q3)],\n",
    "              [ 0,              1,       0],\n",
    "              [-sin(q3),        0, cos(q3)]])\n",
    "Z_Y_intrinsic_sym =  R_x * R_y\n",
    "Z_Y_intrinsic_num = Z_Y_intrinsic_sym.evalf(subs={ q2: pi/3, q3: pi/3})\n",
    "XZ_Y_intrinsic_sym = R_z * Z_Y_intrinsic_num \n",
    "XZ_Y_intrinsic_sym = XZ_Y_intrinsic_sym.evalf(subs={q1: pi/4})"
   ]
  },
  {
   "cell_type": "code",
   "execution_count": 21,
   "metadata": {},
   "outputs": [
    {
     "data": {
      "text/plain": [
       "Matrix([\n",
       "[(-sin(q1)*sin(q3) + cos(q1)*cos(q3))*cos(q2), -1.0*sin(q2), (sin(q1)*cos(q3) + sin(q3)*cos(q1))*cos(q2)],\n",
       "[(-sin(q1)*sin(q3) + cos(q1)*cos(q3))*sin(q2),  1.0*cos(q2), (sin(q1)*cos(q3) + sin(q3)*cos(q1))*sin(q2)],\n",
       "[          -sin(q1)*cos(q3) - sin(q3)*cos(q1),            0,          -sin(q1)*sin(q3) + cos(q1)*cos(q3)]])"
      ]
     },
     "execution_count": 21,
     "metadata": {},
     "output_type": "execute_result"
    }
   ],
   "source": [
    "XZ_Y_intrinsic_sym"
   ]
  },
  {
   "cell_type": "code",
   "execution_count": 22,
   "metadata": {},
   "outputs": [],
   "source": [
    "total = R_z * R_y *R_x"
   ]
  },
  {
   "cell_type": "code",
   "execution_count": 23,
   "metadata": {},
   "outputs": [
    {
     "data": {
      "text/plain": [
       "Matrix([\n",
       "[-sin(q1)*sin(q3)*cos(q2) + cos(q1)*cos(q2)*cos(q3), -sin(q2), sin(q1)*cos(q2)*cos(q3) + sin(q3)*cos(q1)*cos(q2)],\n",
       "[-sin(q1)*sin(q2)*sin(q3) + sin(q2)*cos(q1)*cos(q3),  cos(q2), sin(q1)*sin(q2)*cos(q3) + sin(q2)*sin(q3)*cos(q1)],\n",
       "[                -sin(q1)*cos(q3) - sin(q3)*cos(q1),        0,                -sin(q1)*sin(q3) + cos(q1)*cos(q3)]])"
      ]
     },
     "execution_count": 23,
     "metadata": {},
     "output_type": "execute_result"
    }
   ],
   "source": [
    "total"
   ]
  },
  {
   "cell_type": "code",
   "execution_count": 25,
   "metadata": {},
   "outputs": [
    {
     "data": {
      "text/plain": [
       "Matrix([\n",
       "[-sin(q1)*sin(q3)*cos(q2) + cos(q1)*cos(q2)*cos(q3), -sin(q2), sin(q1)*cos(q2)*cos(q3) + sin(q3)*cos(q1)*cos(q2)],\n",
       "[-sin(q1)*sin(q2)*sin(q3) + sin(q2)*cos(q1)*cos(q3),  cos(q2), sin(q1)*sin(q2)*cos(q3) + sin(q2)*sin(q3)*cos(q1)],\n",
       "[                -sin(q1)*cos(q3) - sin(q3)*cos(q1),        0,                -sin(q1)*sin(q3) + cos(q1)*cos(q3)]])"
      ]
     },
     "execution_count": 25,
     "metadata": {},
     "output_type": "execute_result"
    }
   ],
   "source": [
    "zy =R_z * R_y\n",
    "zyx = zy * R_x\n",
    "zyx"
   ]
  },
  {
   "cell_type": "code",
   "execution_count": 26,
   "metadata": {},
   "outputs": [
    {
     "data": {
      "text/plain": [
       "Matrix([\n",
       "[(-sin(q1)*sin(q3) + cos(q1)*cos(q3))*cos(q2), -sin(q2), (sin(q1)*cos(q3) + sin(q3)*cos(q1))*cos(q2)],\n",
       "[(-sin(q1)*sin(q3) + cos(q1)*cos(q3))*sin(q2),  cos(q2), (sin(q1)*cos(q3) + sin(q3)*cos(q1))*sin(q2)],\n",
       "[          -sin(q1)*cos(q3) - sin(q3)*cos(q1),        0,          -sin(q1)*sin(q3) + cos(q1)*cos(q3)]])"
      ]
     },
     "execution_count": 26,
     "metadata": {},
     "output_type": "execute_result"
    }
   ],
   "source": [
    "yx = R_y * R_x\n",
    "zyx_ = R_z * yx\n",
    "zyx_"
   ]
  },
  {
   "cell_type": "markdown",
   "metadata": {},
   "source": [
    "## Inverse kinematics\n",
    "Consider the extrinsic (i.e., fixed axis) X-Y-Z rotation sequence.\n",
    "see forward and inverse kinematics 08. Euler Angles from a Rotation Matrix - the matrix Rxyz"
   ]
  },
  {
   "cell_type": "code",
   "execution_count": null,
   "metadata": {},
   "outputs": [],
   "source": [
    "#!/usr/bin/env python\n",
    "import numpy as np\n",
    "from sympy.matrices import Matrix\n",
    "from sympy import symbols, atan2, sqrt\n",
    "\n",
    "\n",
    "# Fixed Axis X-Y-Z Rotation Matrix\n",
    "R_XYZ = Matrix([[ 0.353553390593274, -0.306186217847897, 0.883883476483184],\n",
    "            [ 0.353553390593274,  0.918558653543692, 0.176776695296637],\n",
    "            [-0.866025403784439,               0.25, 0.433012701892219]])\n",
    "\n",
    "######## TO DO ##########\n",
    "# Calculate the Euler angles that produces a rotation equivalent to R (above)\n",
    "# NOTE: Be sure your answer has units of DEGREES!\n",
    "alpha = 1 # rotation about Z-axis\n",
    "beta  = 1 # rotation about Y-axis\n",
    "gamma = 1 # rotation about X-axis\n"
   ]
  },
  {
   "cell_type": "markdown",
   "metadata": {},
   "source": [
    "## Solution"
   ]
  },
  {
   "cell_type": "code",
   "execution_count": 27,
   "metadata": {},
   "outputs": [
    {
     "name": "stdout",
     "output_type": "stream",
     "text": [
      "alpha is =  0.785398163397448 radians or  45.0000000000000 degrees\n",
      "beta  is =  1.04719755119660 radians or  60.0000000000000 degrees\n",
      "gamma is =  0.523598775598299 radians or  30.0000000000000 degrees\n"
     ]
    }
   ],
   "source": [
    "#!/usr/bin/env python\n",
    "import numpy as np\n",
    "from sympy.matrices import Matrix\n",
    "from sympy import symbols, atan2, sqrt\n",
    "\n",
    "# Conversion Factors\n",
    "rtd = 180/np.pi\n",
    "dtr = np.pi/180\n",
    "\n",
    "# Fixed Axis X-Y-Z Rotation Matrix\n",
    "R_XYZ = Matrix([[ 0.353553390593274, -0.306186217847897, 0.883883476483184],\n",
    "                [ 0.353553390593274,  0.918558653543692, 0.176776695296637],\n",
    "                [-0.866025403784439,               0.25, 0.433012701892219]])\n",
    "\n",
    "### Identify useful terms from rotation matrix\n",
    "r31 = R_XYZ[2,0]\n",
    "r11 = R_XYZ[0,0]\n",
    "r21 = R_XYZ[1,0]\n",
    "r32 = R_XYZ[2,1]\n",
    "r33 = R_XYZ[2,2]\n",
    "\n",
    "\n",
    "### Euler Angles from Rotation Matrix\n",
    "  # sympy synatx for atan2 is atan2(y, x)\n",
    "beta  = atan2(-r31, sqrt(r11 * r11 + r21 * r21)) * rtd\n",
    "gamma = atan2(r32, r33) * rtd\n",
    "alpha = atan2(r21, r11) * rtd\n",
    "\n",
    "\n",
    "print(\"alpha is = \",alpha*dtr, \"radians\", \"or \", alpha, \"degrees\")\n",
    "print(\"beta  is = \",beta*dtr,  \"radians\", \"or \", beta, \"degrees\")\n",
    "print(\"gamma is = \",gamma*dtr, \"radians\", \"or \", gamma, \"degrees\")"
   ]
  },
  {
   "cell_type": "markdown",
   "metadata": {},
   "source": [
    "## Homogeneous transfor of roation + translation\n",
    "\n"
   ]
  },
  {
   "cell_type": "code",
   "execution_count": null,
   "metadata": {},
   "outputs": [],
   "source": [
    "#!usr/bin/env python\n",
    "\n",
    "from sympy import symbols, cos, sin, pi, simplify, sqrt, atan2\n",
    "from sympy.matrices import Matrix\n",
    "\n",
    "###############################################################\n",
    "# Problem Statement:\n",
    "  # Let P be a vector expressed in frame {B} with (x,y,z)\n",
    "  # coordinates = (15.0, 0.0, 42.0)\n",
    "  # Rotate P about the Y-axis by angle = 110 degrees. \n",
    "  # Then translate the vector 1 unit\n",
    "  # in the X-axis and 30 units in the Z-axis. \n",
    "  # Print the new (x, y, z) coordinates of P after the transformation.  \n",
    "###############################################################\n",
    "#### Create symbols for joint variables\n",
    "q1 = symbols('q1')\n",
    "gamma  = symbols('gamma')\n",
    "\n",
    "#### TO DO ####\n",
    "# Replace P and T with appropriate expressions and calculate new coordinates of P in {A}. \n",
    "P = 1     # P should be a 4x1 Matrix\n",
    "T = 1     # T Should be a 4x4 homogeneous Transform\n",
    "P_new = 1 # \n"
   ]
  },
  {
   "cell_type": "code",
   "execution_count": 10,
   "metadata": {},
   "outputs": [
    {
     "data": {
      "text/plain": [
       "Matrix([\n",
       "[35.3367879231231],\n",
       "[               0],\n",
       "[1.53976466853329],\n",
       "[             1.0]])"
      ]
     },
     "execution_count": 10,
     "metadata": {},
     "output_type": "execute_result"
    }
   ],
   "source": [
    "# My solution \n",
    "#!usr/bin/env python\n",
    "\n",
    "from sympy import symbols, cos, sin, pi, simplify, sqrt, atan2\n",
    "from sympy.matrices import Matrix\n",
    "\n",
    "###############################################################\n",
    "# Problem Statement:\n",
    "  # Let P be a vector expressed in frame {B} with (x,y,z)\n",
    "  # coordinates = (15.0, 0.0, 42.0)\n",
    "  # Rotate P about the Y-axis by angle = 110 degrees. \n",
    "  # Then translate the vector 1 unit\n",
    "  # in the X-axis and 30 units in the Z-axis. \n",
    "  # Print the new (x, y, z) coordinates of P after the transformation.  \n",
    "###############################################################\n",
    "#### Create symbols for joint variables\n",
    "q1 = symbols('q1')\n",
    "gamma  = symbols('gamma')\n",
    "\n",
    "#### TO DO ####\n",
    "# Replace P and T with appropriate expressions and calculate new coordinates of P in {A}. \n",
    "P = Matrix([[15],\n",
    "            [0],\n",
    "            [42],\n",
    "            [1]])   # P should be a 4x1 Matrix\n",
    "T = Matrix([[ cos(q1),        0, sin(q1),1],\n",
    "              [ 0,              1,       0, 0],\n",
    "              [-sin(q1),        0, cos(q1), 30],\n",
    "              [0, 0, 0, 1]])    # T Should be a 4x4 homogeneous Transform\n",
    "P_new = T * P \n",
    "P_new1 = P_new.evalf(subs={ q1: 110*dtr})\n",
    "P_new1\n"
   ]
  },
  {
   "cell_type": "code",
   "execution_count": 11,
   "metadata": {},
   "outputs": [
    {
     "name": "stdout",
     "output_type": "stream",
     "text": [
      "P_new is : Matrix([[42.0*sin(q1) + 15.0*cos(q1) + 1.0], [0], [-15.0*sin(q1) + 42.0*cos(q1) + 30.0], [1]])\n",
      "The new coordinates of P_A are : Matrix([[35.3367879231231], [0], [1.53976466853328], [1.00000000000000]])\n"
     ]
    }
   ],
   "source": [
    "# Real solution\n",
    "#!/usr/bin/env python\n",
    "from sympy import symbols, cos, sin, pi, simplify, sqrt, atan2\n",
    "from sympy.matrices import Matrix\n",
    "\n",
    "# Conversion Factors\n",
    "rtd = 180./pi # radians to degrees\n",
    "dtr = pi/180. # degrees to radians\n",
    "\n",
    "################################################\n",
    "#### Create symbol for rotation angle\n",
    "q1 = symbols('q1')\n",
    "\n",
    "# Construct P in {B}\n",
    "P = Matrix([[15.0],[0.0],[42.0],[1]])\n",
    "\n",
    "# Define Homogeneous Transform\n",
    "T = Matrix([[ cos(q1),   0,  sin(q1),    1.],\n",
    "            [ 0,         1,        0,    0.],\n",
    "            [ -sin(q1),  0,  cos(q1),   30.], \n",
    "            [ 0,       0,          0,   1 ]])\n",
    "\n",
    "# Calculate new coordinates of P in {A}\n",
    "P_new = simplify(T * P)\n",
    "print(\"P_new is :\", P_new)\n",
    "\n",
    "# Evaluate numerically\n",
    "print(\"The new coordinates of P_A are :\", P_new.evalf(subs={q1: 110*dtr}))"
   ]
  },
  {
   "cell_type": "markdown",
   "metadata": {},
   "source": [
    "## Composition of homogenous transform"
   ]
  },
  {
   "cell_type": "code",
   "execution_count": null,
   "metadata": {},
   "outputs": [],
   "source": [
    "#!/usr/bin/env python\n",
    "\n",
    "from sympy import symbols, cos, sin, pi, sqrt, simplify\n",
    "from sympy.matrices import Matrix\n",
    "\n",
    "### Create symbols for joint variables\n",
    "# The numbers 1 to 4 correspond to each rotation in the order specified to you.\n",
    "q1, q2, q3, q4 = symbols('q1:5')\n",
    "\n",
    "### Define functions for Rotation Matrices about x, y, and z given specific angle.\n",
    "\n",
    "def rot_x(q):\n",
    "    R_x = 0\n",
    "    \n",
    "    return R_x\n",
    "    \n",
    "def rot_y(q):              \n",
    "    R_y = 0\n",
    "    \n",
    "    return R_y\n",
    "\n",
    "def rot_z(q):    \n",
    "    R_z = 0\n",
    "    \n",
    "    return R_z\n",
    "              \n",
    "### Define rotations between frames\n",
    "\n",
    "# Initial Rotation Matrix for Frame A\n",
    "Ra = Matrix([[1, 0, 0],\n",
    "             [0, 1, 0],\n",
    "             [0, 0, 1]])\n",
    "\n",
    "# Rotations performed on individual Frames for A->B->E\n",
    "Rb_a = 0\n",
    "Re_b = 0\n",
    "\n",
    "# Rotations performed on individual Frames for A->C->D->E\n",
    "Rc_a = 0\n",
    "Rd_c = 0\n",
    "Re_d = 0\n",
    "\n",
    "### Define Translations between frames.\n",
    "\n",
    "tb_a = 0\n",
    "te_b = 0\n",
    "tc_a = 0\n",
    "td_c = 0\n",
    "te_d = 0\n",
    "\n",
    "### Define homogenous transformation matrices\n",
    "# HINT: Check out sympy's documentation for functions row_join and col_join\n",
    "Ta = 0\n",
    "\n",
    "Tb_a = 0\n",
    "\n",
    "Te_b = 0\n",
    "\n",
    "Tc_a = 0\n",
    "\n",
    "Td_c = 0\n",
    "\n",
    "Te_d = 0         \n",
    "\n",
    "### Composition of Transformations\n",
    "Te_a_1 = simplify(Ta * Tb_a * Te_b)\n",
    "\n",
    "Te_a_2 = simplify(Ta * Tc_a * Td_c * Te_d)\n",
    "\n",
    "### Calculate orientation and position for E\n",
    "E_1 = Te_a_1.evalf(subs={q1: 0, q2: 0}, chop = True)\n",
    "\n",
    "E_2 = Te_a_2.evalf(subs={q3: 0, q4: 0}, chop = True)\n",
    "\n",
    "print(\"Transformation Matrix for A->B->E:\")\n",
    "print(E_1)\n",
    "\n",
    "print(\"Transformation Matrix for A->C->D->E:\")\n",
    "print(E_2)\n"
   ]
  },
  {
   "cell_type": "code",
   "execution_count": null,
   "metadata": {},
   "outputs": [],
   "source": [
    "#Aman's try\n",
    "#!/usr/bin/env python\n",
    "\n",
    "from sympy import symbols, cos, sin, pi, sqrt, simplify\n",
    "from sympy.matrices import Matrix\n",
    "\n",
    "### Create symbols for joint variables\n",
    "# The numbers 1 to 4 correspond to each rotation in the order specified to you.\n",
    "q1, q2, q3, q4 = symbols('q1:5')\n",
    "\n",
    "### Define functions for Rotation Matrices about x, y, and z given specific angle.\n",
    "\n",
    "def rot_x(q):\n",
    "    R_x = 0\n",
    "    \n",
    "    return R_x\n",
    "    \n",
    "def rot_y(q):              \n",
    "    R_y = 0\n",
    "    \n",
    "    return R_y\n",
    "\n",
    "def rot_z(q):    \n",
    "    R_z = 0\n",
    "    \n",
    "    return R_z\n",
    "              \n",
    "### Define rotations between frames\n",
    "\n",
    "# Initial Rotation Matrix for Frame A\n",
    "Ra = Matrix([[1, 0, 0],\n",
    "             [0, 1, 0],\n",
    "             [0, 0, 1]])\n",
    "\n",
    "# Rotations performed on individual Frames for A->B->E\n",
    "Rb_a = 0\n",
    "Re_b = 0\n",
    "\n",
    "# Rotations performed on individual Frames for A->C->D->E\n",
    "Rc_a = 0\n",
    "Rd_c = 0\n",
    "Re_d = 0\n",
    "\n",
    "### Define Translations between frames.\n",
    "\n",
    "tb_a = 0\n",
    "te_b = 0\n",
    "tc_a = 0\n",
    "td_c = 0\n",
    "te_d = 0\n",
    "\n",
    "### Define homogenous transformation matrices\n",
    "# HINT: Check out sympy's documentation for functions row_join and col_join\n",
    "Ta = 0\n",
    "\n",
    "Tb_a = 0\n",
    "\n",
    "Te_b = 0\n",
    "\n",
    "Tc_a = 0\n",
    "\n",
    "Td_c = 0\n",
    "\n",
    "Te_d = 0         \n",
    "\n",
    "### Composition of Transformations\n",
    "Te_a_1 = simplify(Ta * Tb_a * Te_b)\n",
    "\n",
    "Te_a_2 = simplify(Ta * Tc_a * Td_c * Te_d)\n",
    "\n",
    "### Calculate orientation and position for E\n",
    "E_1 = Te_a_1.evalf(subs={q1: 0, q2: 0}, chop = True)\n",
    "\n",
    "E_2 = Te_a_2.evalf(subs={q3: 0, q4: 0}, chop = True)\n",
    "\n",
    "print(\"Transformation Matrix for A->B->E:\")\n",
    "print(E_1)\n",
    "\n",
    "print(\"Transformation Matrix for A->C->D->E:\")\n",
    "print(E_2)\n"
   ]
  }
 ],
 "metadata": {
  "kernelspec": {
   "display_name": "Python 3",
   "language": "python",
   "name": "python3"
  },
  "language_info": {
   "codemirror_mode": {
    "name": "ipython",
    "version": 3
   },
   "file_extension": ".py",
   "mimetype": "text/x-python",
   "name": "python",
   "nbconvert_exporter": "python",
   "pygments_lexer": "ipython3",
   "version": "3.6.10"
  }
 },
 "nbformat": 4,
 "nbformat_minor": 2
}
